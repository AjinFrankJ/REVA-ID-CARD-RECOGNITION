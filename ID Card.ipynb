{
 "cells": [
  {
   "cell_type": "code",
   "execution_count": 9,
   "id": "77ccd91e",
   "metadata": {},
   "outputs": [],
   "source": [
    "import os\n",
    "import cv2\n",
    "import numpy as np\n",
    "import tensorflow as tf\n",
    "import sys\n",
    "\n",
    "from PIL import Image\n",
    "\n",
    "# This is needed since the notebook is stored in the object_detection folder.\n",
    "sys.path.append(\"..\")\n",
    "\n",
    "# Import utilites\n",
    "from utils import label_map_util\n",
    "from utils import visualization_utils as vis_util\n",
    "\n",
    "# Name of the directory containing the object detection module we're using\n",
    "MODEL_NAME = r'C:\\Users\\ajinf\\Desktop\\Swift\\model'\n",
    "PATH_TO_IMAGE = r'C:\\Users\\ajinf\\Desktop\\Swift\\image.jpg'\n",
    "im = Image.open(r'C:\\Users\\ajinf\\Desktop\\Swift\\image.jpg')\n",
    "# Grab path to current working directory\n",
    "CWD_PATH = os.getcwd()\n",
    "# Path to frozen detection graph .pb file, which contains the model that is used\n",
    "# for object detection.\n",
    "PATH_TO_CKPT = os.path.join(CWD_PATH,MODEL_NAME,'frozen_inference_graph.pb')\n",
    "# Path to label map file\n",
    "PATH_TO_LABELS = os.path.join(CWD_PATH,'data','labelmap.pbtxt')\n",
    "# Number of classes the object detector can identify\n",
    "NUM_CLASSES = 1\n",
    "\n",
    "# Load the label map.\n",
    "# Label maps map indices to category names, so that when our convolution\n",
    "# network predicts `5`, we know that this corresponds to `king`.\n",
    "# Here we use internal utility functions, but anything that returns a\n",
    "# dictionary mapping integers to appropriate string labels would be fine\n",
    "label_map = label_map_util.load_labelmap(PATH_TO_LABELS)\n",
    "categories = label_map_util.convert_label_map_to_categories(label_map, max_num_classes=NUM_CLASSES, use_display_name=True)\n",
    "category_index = label_map_util.create_category_index(categories)\n",
    "\n",
    "# Load the Tensorflow model into memory.\n",
    "detection_graph = tf.Graph()\n",
    "with detection_graph.as_default():\n",
    "    ograph = tf.Graph()\n",
    "    od_graph_def = tf.compat.v1.GraphDef()\n",
    "    with tf.io.gfile.GFile(PATH_TO_CKPT, 'rb') as fid:\n",
    "        serialized_graph = fid.read()\n",
    "        od_graph_def.ParseFromString(serialized_graph)\n",
    "        tf.import_graph_def(od_graph_def, name='')\n",
    "\n",
    "    sess = tf.compat.v1.Session(graph=detection_graph)\n",
    "\n",
    "# Define input and output tensors (i.e. data) for the object detection classifier\n",
    "\n",
    "# Input tensor is the image\n",
    "image_tensor = detection_graph.get_tensor_by_name('image_tensor:0')\n",
    "\n",
    "# Output tensors are the detection boxes, scores, and classes\n",
    "# Each box represents a part of the image where a particular object was detected\n",
    "detection_boxes = detection_graph.get_tensor_by_name('detection_boxes:0')\n",
    "\n",
    "# Each score represents level of confidence for each of the objects.\n",
    "# The score is shown on the result image, together with the class label.\n",
    "detection_scores = detection_graph.get_tensor_by_name('detection_scores:0')\n",
    "detection_classes = detection_graph.get_tensor_by_name('detection_classes:0')\n",
    "\n",
    "# Number of objects detected\n",
    "num_detections = detection_graph.get_tensor_by_name('num_detections:0')\n",
    "\n",
    "# Load image using OpenCV and\n",
    "# expand image dimensions to have shape: [1, None, None, 3]\n",
    "# i.e. a single-column array, where each item in the column has the pixel RGB value\n",
    "image = cv2.imread(PATH_TO_IMAGE)\n",
    "image_expanded = np.expand_dims(image, axis=0)\n",
    "\n",
    "# Perform the actual detection by running the model with the image as input\n",
    "(boxes, scores, classes, num) = sess.run(\n",
    "    [detection_boxes, detection_scores, detection_classes, num_detections],\n",
    "    feed_dict={image_tensor: image_expanded})\n",
    "\n",
    "# Draw the results of the detection (aka 'visulaize the results')\n",
    "image, array_coord = vis_util.visualize_boxes_and_labels_on_image_array(\n",
    "    image,\n",
    "    np.squeeze(boxes),\n",
    "    np.squeeze(classes).astype(np.int32),\n",
    "    np.squeeze(scores),\n",
    "    category_index,\n",
    "    use_normalized_coordinates=True,\n",
    "    line_thickness=3,\n",
    "    min_score_thresh=0.60)\n",
    "\n",
    "ymin, xmin, ymax, xmax = array_coord\n",
    "\n",
    "shape = np.shape(image)\n",
    "im_width, im_height = shape[1], shape[0]\n",
    "(left, right, top, bottom) = (xmin * im_width, xmax * im_width, ymin * im_height, ymax * im_height)\n",
    "\n",
    "# Using Image to crop and save the extracted copied image\n",
    "im.crop((left, top, right, bottom)).save(r'C:\\Users\\ajinf\\Desktop\\Swift\\final.png', quality=95)\n",
    "cropped_image = im.crop((left, top, right, bottom))\n",
    "\n",
    "image_cropped = cv2.imread(r'C:\\Users\\ajinf\\Desktop\\Swift\\final.png')\n",
    "cv2.imshow(\"ID-CARD-CROPPED:\", image_cropped)\n",
    "# Press any key to close the image\n",
    "cv2.waitKey(0)\n",
    "\n",
    "# Clean up\n",
    "cv2.destroyAllWindows()"
   ]
  },
  {
   "cell_type": "code",
   "execution_count": 10,
   "id": "6ae01fde",
   "metadata": {},
   "outputs": [],
   "source": [
    "import cv2\n",
    "import pytesseract\n",
    "import numpy as np\n",
    "import matplotlib.pyplot as plt\n",
    "import imutils\n",
    "from numpy import asarray\n",
    "#Declare pytessecart excuteable path\n",
    "\n",
    "pytesseract.pytesseract.tesseract_cmd = 'C:\\\\Program Files\\\\Tesseract-OCR\\\\tesseract.exe'\n",
    "    \n",
    "from PIL import Image\n",
    "\n",
    "rot_img = asarray(cropped_image)\n",
    "gray = cv2.cvtColor(rot_img, cv2.COLOR_BGR2GRAY)\n",
    "ret, th1 = cv2.threshold(gray, 0, 255, cv2.THRESH_OTSU |\n",
    "                                          cv2.THRESH_BINARY_INV)\n",
    "cv2.imshow(\"OK\",th1)\n",
    "cv2.waitKey(0)\n",
    "cv2.destroyAllWindows()\n"
   ]
  },
  {
   "cell_type": "code",
   "execution_count": 11,
   "id": "1c0572d2",
   "metadata": {},
   "outputs": [],
   "source": [
    "data = pytesseract.image_to_string(th1, config='--oem 1 --psm 6')"
   ]
  },
  {
   "cell_type": "code",
   "execution_count": 12,
   "id": "e2eaec1c",
   "metadata": {},
   "outputs": [],
   "source": [
    "IDCARD = ['REVA', 'UNIVERSITY', 'STUDENT', 'ID', 'CARD', 'VALIDITY', 'SRN', 'REGISTRAR', 'TO', \n",
    "          'NAME', 'COURSE', 'ADMISSION', 'NO', 'SIGNATURE','OF', 'ISSUING', 'AUTHORITY']"
   ]
  },
  {
   "cell_type": "code",
   "execution_count": 13,
   "id": "238f4ec7",
   "metadata": {},
   "outputs": [
    {
     "name": "stdout",
     "output_type": "stream",
     "text": [
      "Approved\n"
     ]
    }
   ],
   "source": [
    "words = []\n",
    "for i in IDCARD:\n",
    "    if i in data:\n",
    "        words.append(i)\n",
    "        \n",
    "if len(words) >= 3:\n",
    "    print(\"Approved\")\n",
    "else:\n",
    "    print(\"Not Approved, Upload Again\")"
   ]
  },
  {
   "cell_type": "code",
   "execution_count": 19,
   "id": "542bde3c",
   "metadata": {},
   "outputs": [],
   "source": [
    "def cropImageRoi(image, roi):\n",
    "    roi_cropped = image[\n",
    "        int(roi[1]) : int(roi[1] + roi[3]), int(roi[0]) : int(roi[0] + roi[2])\n",
    "    ]\n",
    "    return roi_cropped\n",
    "\n",
    "class ImageConstantROI():\n",
    "    class CCCD(object):\n",
    "        ROIS = {\n",
    "            \"id\": [(280, 100, 500, 400)],\n",
    "            \"name\": [\n",
    "                (325, 393, 771, 64),\n",
    "            ],\n",
    "            \"birth_date\": [(658, 451, 216, 54)],\n",
    "            \"gender\": [(538, 495, 95, 44)],\n",
    "            \"address\": [(786, 639, 343, 39), (318, 672, 791, 52)],\n",
    "            \"place_birth\": [(326, 586, 792, 47)],\n",
    "            \"date_expire\": [(155, 653, 152, 31)],\n",
    "        }\n",
    "\n",
    "        CHECK_ROI = [(313, 174, 597, 63)]\n",
    "\n",
    "testCrop = cropImageRoi(rot_img, ImageConstantROI.CCCD.ROIS['id'][0])\n",
    "\n",
    "\n"
   ]
  },
  {
   "cell_type": "code",
   "execution_count": 14,
   "id": "56168f8c",
   "metadata": {},
   "outputs": [
    {
     "data": {
      "text/plain": [
       "'| =, REVA_ | cue\\n| SS UNIVERSITY | oo ld\\nil ak ee\\nal Ge R21SL013 AE\\n{Bees Be\\nByemanTHRA sO\\n¥ |*.Sc in Bio-Technology ae\\nae | REGISTRAR Ji\\n'"
      ]
     },
     "execution_count": 14,
     "metadata": {},
     "output_type": "execute_result"
    }
   ],
   "source": [
    "data"
   ]
  },
  {
   "cell_type": "code",
   "execution_count": 15,
   "id": "477adc6d",
   "metadata": {},
   "outputs": [
    {
     "data": {
      "text/plain": [
       "['REVA', 'UNIVERSITY', 'REGISTRAR']"
      ]
     },
     "execution_count": 15,
     "metadata": {},
     "output_type": "execute_result"
    }
   ],
   "source": [
    "words"
   ]
  },
  {
   "cell_type": "code",
   "execution_count": 21,
   "id": "ee1c5a89",
   "metadata": {},
   "outputs": [],
   "source": [
    "cv2.imshow(\"ID-CARD-CROPPED:\", testCrop)\n",
    "# Press any key to close the image\n",
    "cv2.waitKey(0)\n",
    "\n",
    "# Clean up\n",
    "cv2.destroyAllWindows()"
   ]
  },
  {
   "cell_type": "code",
   "execution_count": null,
   "id": "7af259a6",
   "metadata": {},
   "outputs": [],
   "source": []
  }
 ],
 "metadata": {
  "kernelspec": {
   "display_name": "Python 3",
   "language": "python",
   "name": "python3"
  },
  "language_info": {
   "codemirror_mode": {
    "name": "ipython",
    "version": 3
   },
   "file_extension": ".py",
   "mimetype": "text/x-python",
   "name": "python",
   "nbconvert_exporter": "python",
   "pygments_lexer": "ipython3",
   "version": "3.8.8"
  }
 },
 "nbformat": 4,
 "nbformat_minor": 5
}
